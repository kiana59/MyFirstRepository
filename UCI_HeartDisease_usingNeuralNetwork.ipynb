{
  "nbformat": 4,
  "nbformat_minor": 0,
  "metadata": {
    "colab": {
      "name": "UCI_HeartDisease_usingNeuralNetwork.ipynb",
      "provenance": [],
      "collapsed_sections": [],
      "include_colab_link": true
    },
    "kernelspec": {
      "name": "python3",
      "display_name": "Python 3"
    }
  },
  "cells": [
    {
      "cell_type": "markdown",
      "metadata": {
        "id": "view-in-github",
        "colab_type": "text"
      },
      "source": [
        "<a href=\"https://colab.research.google.com/github/kiana59/MyFirstRepository/blob/master/UCI_HeartDisease_usingNeuralNetwork.ipynb\" target=\"_parent\"><img src=\"https://colab.research.google.com/assets/colab-badge.svg\" alt=\"Open In Colab\"/></a>"
      ]
    },
    {
      "cell_type": "markdown",
      "metadata": {
        "id": "Lq624TZiLQMK",
        "colab_type": "text"
      },
      "source": [
        "# Import Statements\n",
        "In this section, I am importing all the packages that I will be using to create a model to predict the heart disease from the cleaned UCI heart disease dataset.\n"
      ]
    },
    {
      "cell_type": "code",
      "metadata": {
        "id": "OC9Cgw5h7SpD",
        "colab_type": "code",
        "outputId": "8992abf1-a874-478a-c669-408ff3d60f60",
        "colab": {
          "base_uri": "https://localhost:8080/",
          "height": 80
        }
      },
      "source": [
        "\n",
        "import os\n",
        "import numpy as np\n",
        "import pandas as pd\n",
        "from keras.layers import Dense\n",
        "import matplotlib.pyplot as plt\n",
        "import tensorflow as tf\n",
        "from tensorflow.python.keras.models import Sequential\n",
        "from tensorflow.python.keras.layers import Dense\n",
        "from tensorflow.python.keras.optimizers import Adam\n",
        "from sklearn.model_selection import train_test_split\n",
        "from sklearn.metrics import classification_report, accuracy_score\n"
      ],
      "execution_count": 1,
      "outputs": [
        {
          "output_type": "stream",
          "text": [
            "Using TensorFlow backend.\n"
          ],
          "name": "stderr"
        },
        {
          "output_type": "display_data",
          "data": {
            "text/html": [
              "<p style=\"color: red;\">\n",
              "The default version of TensorFlow in Colab will soon switch to TensorFlow 2.x.<br>\n",
              "We recommend you <a href=\"https://www.tensorflow.org/guide/migrate\" target=\"_blank\">upgrade</a> now \n",
              "or ensure your notebook will continue to use TensorFlow 1.x via the <code>%tensorflow_version 1.x</code> magic:\n",
              "<a href=\"https://colab.research.google.com/notebooks/tensorflow_version.ipynb\" target=\"_blank\">more info</a>.</p>\n"
            ],
            "text/plain": [
              "<IPython.core.display.HTML object>"
            ]
          },
          "metadata": {
            "tags": []
          }
        }
      ]
    },
    {
      "cell_type": "markdown",
      "metadata": {
        "id": "lFTs6nHuM-c7",
        "colab_type": "text"
      },
      "source": [
        "Uploaded the heart.csv file in the google colab and checking the if the files resides in the current directory or not using listdir() function."
      ]
    },
    {
      "cell_type": "code",
      "metadata": {
        "id": "qt1xK2o0-LbP",
        "colab_type": "code",
        "outputId": "f6e60f7e-b0a1-4927-9373-13e4304863c7",
        "colab": {
          "base_uri": "https://localhost:8080/",
          "height": 34
        }
      },
      "source": [
        "print(os.listdir())\n",
        "np.random.seed(1)"
      ],
      "execution_count": 4,
      "outputs": [
        {
          "output_type": "stream",
          "text": [
            "['.config', 'heart.csv', 'sample_data']\n"
          ],
          "name": "stdout"
        }
      ]
    },
    {
      "cell_type": "markdown",
      "metadata": {
        "id": "bigZYF67Neoz",
        "colab_type": "text"
      },
      "source": [
        "# Read CSV data\n",
        "Reading csv data file into pandas data frame and displaying the first 5 rows from the dataframe using head() function."
      ]
    },
    {
      "cell_type": "code",
      "metadata": {
        "id": "eDqOBuqU-YSF",
        "colab_type": "code",
        "outputId": "da8f6964-8820-4696-db99-e16c16c407df",
        "colab": {
          "base_uri": "https://localhost:8080/",
          "height": 153
        }
      },
      "source": [
        "data = pd.read_csv(\"heart.csv\")\n",
        "print(data.head(5))"
      ],
      "execution_count": 5,
      "outputs": [
        {
          "output_type": "stream",
          "text": [
            "   age  sex  cp  trestbps  chol  fbs  ...  exang  oldpeak  slope  ca  thal  target\n",
            "0   63    1   3       145   233    1  ...      0      2.3      0   0     1       1\n",
            "1   37    1   2       130   250    0  ...      0      3.5      0   0     2       1\n",
            "2   41    0   1       130   204    0  ...      0      1.4      2   0     2       1\n",
            "3   56    1   1       120   236    0  ...      0      0.8      2   0     2       1\n",
            "4   57    0   0       120   354    0  ...      1      0.6      2   0     2       1\n",
            "\n",
            "[5 rows x 14 columns]\n"
          ],
          "name": "stdout"
        }
      ]
    },
    {
      "cell_type": "markdown",
      "metadata": {
        "id": "AEepDQMYN2_Z",
        "colab_type": "text"
      },
      "source": [
        "Checking the datatypes of the data to check for any categorical value and see if we need to encode it to numeric value."
      ]
    },
    {
      "cell_type": "code",
      "metadata": {
        "id": "PWVQctBj-geQ",
        "colab_type": "code",
        "outputId": "63a9f16c-a911-46c5-da3a-384ad47f3d47",
        "colab": {
          "base_uri": "https://localhost:8080/",
          "height": 272
        }
      },
      "source": [
        "print(data.dtypes)"
      ],
      "execution_count": 6,
      "outputs": [
        {
          "output_type": "stream",
          "text": [
            "age           int64\n",
            "sex           int64\n",
            "cp            int64\n",
            "trestbps      int64\n",
            "chol          int64\n",
            "fbs           int64\n",
            "restecg       int64\n",
            "thalach       int64\n",
            "exang         int64\n",
            "oldpeak     float64\n",
            "slope         int64\n",
            "ca            int64\n",
            "thal          int64\n",
            "target        int64\n",
            "dtype: object\n"
          ],
          "name": "stdout"
        }
      ]
    },
    {
      "cell_type": "markdown",
      "metadata": {
        "id": "8stl7Y9-OhEM",
        "colab_type": "text"
      },
      "source": [
        "Creating and input (X) and output (Y) variable and assigining the data from the dataframe to these variables. All column except the target column is assigned to the X input variable and the values from the target column is assigned to the Y output variable"
      ]
    },
    {
      "cell_type": "code",
      "metadata": {
        "id": "iI5I4eU7-k9n",
        "colab_type": "code",
        "outputId": "1656521b-26c5-454d-ae88-dc4ae1be2ee3",
        "colab": {
          "base_uri": "https://localhost:8080/",
          "height": 419
        }
      },
      "source": [
        "X = data.drop(['target'], axis=1)\n",
        "X"
      ],
      "execution_count": 7,
      "outputs": [
        {
          "output_type": "execute_result",
          "data": {
            "text/html": [
              "<div>\n",
              "<style scoped>\n",
              "    .dataframe tbody tr th:only-of-type {\n",
              "        vertical-align: middle;\n",
              "    }\n",
              "\n",
              "    .dataframe tbody tr th {\n",
              "        vertical-align: top;\n",
              "    }\n",
              "\n",
              "    .dataframe thead th {\n",
              "        text-align: right;\n",
              "    }\n",
              "</style>\n",
              "<table border=\"1\" class=\"dataframe\">\n",
              "  <thead>\n",
              "    <tr style=\"text-align: right;\">\n",
              "      <th></th>\n",
              "      <th>age</th>\n",
              "      <th>sex</th>\n",
              "      <th>cp</th>\n",
              "      <th>trestbps</th>\n",
              "      <th>chol</th>\n",
              "      <th>fbs</th>\n",
              "      <th>restecg</th>\n",
              "      <th>thalach</th>\n",
              "      <th>exang</th>\n",
              "      <th>oldpeak</th>\n",
              "      <th>slope</th>\n",
              "      <th>ca</th>\n",
              "      <th>thal</th>\n",
              "    </tr>\n",
              "  </thead>\n",
              "  <tbody>\n",
              "    <tr>\n",
              "      <th>0</th>\n",
              "      <td>63</td>\n",
              "      <td>1</td>\n",
              "      <td>3</td>\n",
              "      <td>145</td>\n",
              "      <td>233</td>\n",
              "      <td>1</td>\n",
              "      <td>0</td>\n",
              "      <td>150</td>\n",
              "      <td>0</td>\n",
              "      <td>2.3</td>\n",
              "      <td>0</td>\n",
              "      <td>0</td>\n",
              "      <td>1</td>\n",
              "    </tr>\n",
              "    <tr>\n",
              "      <th>1</th>\n",
              "      <td>37</td>\n",
              "      <td>1</td>\n",
              "      <td>2</td>\n",
              "      <td>130</td>\n",
              "      <td>250</td>\n",
              "      <td>0</td>\n",
              "      <td>1</td>\n",
              "      <td>187</td>\n",
              "      <td>0</td>\n",
              "      <td>3.5</td>\n",
              "      <td>0</td>\n",
              "      <td>0</td>\n",
              "      <td>2</td>\n",
              "    </tr>\n",
              "    <tr>\n",
              "      <th>2</th>\n",
              "      <td>41</td>\n",
              "      <td>0</td>\n",
              "      <td>1</td>\n",
              "      <td>130</td>\n",
              "      <td>204</td>\n",
              "      <td>0</td>\n",
              "      <td>0</td>\n",
              "      <td>172</td>\n",
              "      <td>0</td>\n",
              "      <td>1.4</td>\n",
              "      <td>2</td>\n",
              "      <td>0</td>\n",
              "      <td>2</td>\n",
              "    </tr>\n",
              "    <tr>\n",
              "      <th>3</th>\n",
              "      <td>56</td>\n",
              "      <td>1</td>\n",
              "      <td>1</td>\n",
              "      <td>120</td>\n",
              "      <td>236</td>\n",
              "      <td>0</td>\n",
              "      <td>1</td>\n",
              "      <td>178</td>\n",
              "      <td>0</td>\n",
              "      <td>0.8</td>\n",
              "      <td>2</td>\n",
              "      <td>0</td>\n",
              "      <td>2</td>\n",
              "    </tr>\n",
              "    <tr>\n",
              "      <th>4</th>\n",
              "      <td>57</td>\n",
              "      <td>0</td>\n",
              "      <td>0</td>\n",
              "      <td>120</td>\n",
              "      <td>354</td>\n",
              "      <td>0</td>\n",
              "      <td>1</td>\n",
              "      <td>163</td>\n",
              "      <td>1</td>\n",
              "      <td>0.6</td>\n",
              "      <td>2</td>\n",
              "      <td>0</td>\n",
              "      <td>2</td>\n",
              "    </tr>\n",
              "    <tr>\n",
              "      <th>...</th>\n",
              "      <td>...</td>\n",
              "      <td>...</td>\n",
              "      <td>...</td>\n",
              "      <td>...</td>\n",
              "      <td>...</td>\n",
              "      <td>...</td>\n",
              "      <td>...</td>\n",
              "      <td>...</td>\n",
              "      <td>...</td>\n",
              "      <td>...</td>\n",
              "      <td>...</td>\n",
              "      <td>...</td>\n",
              "      <td>...</td>\n",
              "    </tr>\n",
              "    <tr>\n",
              "      <th>298</th>\n",
              "      <td>57</td>\n",
              "      <td>0</td>\n",
              "      <td>0</td>\n",
              "      <td>140</td>\n",
              "      <td>241</td>\n",
              "      <td>0</td>\n",
              "      <td>1</td>\n",
              "      <td>123</td>\n",
              "      <td>1</td>\n",
              "      <td>0.2</td>\n",
              "      <td>1</td>\n",
              "      <td>0</td>\n",
              "      <td>3</td>\n",
              "    </tr>\n",
              "    <tr>\n",
              "      <th>299</th>\n",
              "      <td>45</td>\n",
              "      <td>1</td>\n",
              "      <td>3</td>\n",
              "      <td>110</td>\n",
              "      <td>264</td>\n",
              "      <td>0</td>\n",
              "      <td>1</td>\n",
              "      <td>132</td>\n",
              "      <td>0</td>\n",
              "      <td>1.2</td>\n",
              "      <td>1</td>\n",
              "      <td>0</td>\n",
              "      <td>3</td>\n",
              "    </tr>\n",
              "    <tr>\n",
              "      <th>300</th>\n",
              "      <td>68</td>\n",
              "      <td>1</td>\n",
              "      <td>0</td>\n",
              "      <td>144</td>\n",
              "      <td>193</td>\n",
              "      <td>1</td>\n",
              "      <td>1</td>\n",
              "      <td>141</td>\n",
              "      <td>0</td>\n",
              "      <td>3.4</td>\n",
              "      <td>1</td>\n",
              "      <td>2</td>\n",
              "      <td>3</td>\n",
              "    </tr>\n",
              "    <tr>\n",
              "      <th>301</th>\n",
              "      <td>57</td>\n",
              "      <td>1</td>\n",
              "      <td>0</td>\n",
              "      <td>130</td>\n",
              "      <td>131</td>\n",
              "      <td>0</td>\n",
              "      <td>1</td>\n",
              "      <td>115</td>\n",
              "      <td>1</td>\n",
              "      <td>1.2</td>\n",
              "      <td>1</td>\n",
              "      <td>1</td>\n",
              "      <td>3</td>\n",
              "    </tr>\n",
              "    <tr>\n",
              "      <th>302</th>\n",
              "      <td>57</td>\n",
              "      <td>0</td>\n",
              "      <td>1</td>\n",
              "      <td>130</td>\n",
              "      <td>236</td>\n",
              "      <td>0</td>\n",
              "      <td>0</td>\n",
              "      <td>174</td>\n",
              "      <td>0</td>\n",
              "      <td>0.0</td>\n",
              "      <td>1</td>\n",
              "      <td>1</td>\n",
              "      <td>2</td>\n",
              "    </tr>\n",
              "  </tbody>\n",
              "</table>\n",
              "<p>303 rows × 13 columns</p>\n",
              "</div>"
            ],
            "text/plain": [
              "     age  sex  cp  trestbps  chol  ...  exang  oldpeak  slope  ca  thal\n",
              "0     63    1   3       145   233  ...      0      2.3      0   0     1\n",
              "1     37    1   2       130   250  ...      0      3.5      0   0     2\n",
              "2     41    0   1       130   204  ...      0      1.4      2   0     2\n",
              "3     56    1   1       120   236  ...      0      0.8      2   0     2\n",
              "4     57    0   0       120   354  ...      1      0.6      2   0     2\n",
              "..   ...  ...  ..       ...   ...  ...    ...      ...    ...  ..   ...\n",
              "298   57    0   0       140   241  ...      1      0.2      1   0     3\n",
              "299   45    1   3       110   264  ...      0      1.2      1   0     3\n",
              "300   68    1   0       144   193  ...      0      3.4      1   2     3\n",
              "301   57    1   0       130   131  ...      1      1.2      1   1     3\n",
              "302   57    0   1       130   236  ...      0      0.0      1   1     2\n",
              "\n",
              "[303 rows x 13 columns]"
            ]
          },
          "metadata": {
            "tags": []
          },
          "execution_count": 7
        }
      ]
    },
    {
      "cell_type": "code",
      "metadata": {
        "id": "iZzAu4X3-6Se",
        "colab_type": "code",
        "outputId": "2e0cd8b3-f4be-4577-dc6c-32aa6c182831",
        "colab": {
          "base_uri": "https://localhost:8080/",
          "height": 255
        }
      },
      "source": [
        "Y=data.target.values\n",
        "Y"
      ],
      "execution_count": 8,
      "outputs": [
        {
          "output_type": "execute_result",
          "data": {
            "text/plain": [
              "array([1, 1, 1, 1, 1, 1, 1, 1, 1, 1, 1, 1, 1, 1, 1, 1, 1, 1, 1, 1, 1, 1,\n",
              "       1, 1, 1, 1, 1, 1, 1, 1, 1, 1, 1, 1, 1, 1, 1, 1, 1, 1, 1, 1, 1, 1,\n",
              "       1, 1, 1, 1, 1, 1, 1, 1, 1, 1, 1, 1, 1, 1, 1, 1, 1, 1, 1, 1, 1, 1,\n",
              "       1, 1, 1, 1, 1, 1, 1, 1, 1, 1, 1, 1, 1, 1, 1, 1, 1, 1, 1, 1, 1, 1,\n",
              "       1, 1, 1, 1, 1, 1, 1, 1, 1, 1, 1, 1, 1, 1, 1, 1, 1, 1, 1, 1, 1, 1,\n",
              "       1, 1, 1, 1, 1, 1, 1, 1, 1, 1, 1, 1, 1, 1, 1, 1, 1, 1, 1, 1, 1, 1,\n",
              "       1, 1, 1, 1, 1, 1, 1, 1, 1, 1, 1, 1, 1, 1, 1, 1, 1, 1, 1, 1, 1, 1,\n",
              "       1, 1, 1, 1, 1, 1, 1, 1, 1, 1, 1, 0, 0, 0, 0, 0, 0, 0, 0, 0, 0, 0,\n",
              "       0, 0, 0, 0, 0, 0, 0, 0, 0, 0, 0, 0, 0, 0, 0, 0, 0, 0, 0, 0, 0, 0,\n",
              "       0, 0, 0, 0, 0, 0, 0, 0, 0, 0, 0, 0, 0, 0, 0, 0, 0, 0, 0, 0, 0, 0,\n",
              "       0, 0, 0, 0, 0, 0, 0, 0, 0, 0, 0, 0, 0, 0, 0, 0, 0, 0, 0, 0, 0, 0,\n",
              "       0, 0, 0, 0, 0, 0, 0, 0, 0, 0, 0, 0, 0, 0, 0, 0, 0, 0, 0, 0, 0, 0,\n",
              "       0, 0, 0, 0, 0, 0, 0, 0, 0, 0, 0, 0, 0, 0, 0, 0, 0, 0, 0, 0, 0, 0,\n",
              "       0, 0, 0, 0, 0, 0, 0, 0, 0, 0, 0, 0, 0, 0, 0, 0, 0])"
            ]
          },
          "metadata": {
            "tags": []
          },
          "execution_count": 8
        }
      ]
    },
    {
      "cell_type": "markdown",
      "metadata": {
        "id": "oscAsgD9PBq5",
        "colab_type": "text"
      },
      "source": [
        "# Creating Train, Validation and Test dataset\n",
        "Using the train_test_split method from the sklearn package to split the dataset into train, validation and test set. First the dataset is splitted into training set(90%) and validation set (10%). Then a test set is created by again splitting the new training set data. "
      ]
    },
    {
      "cell_type": "code",
      "metadata": {
        "id": "yhqHVH2m--Z4",
        "colab_type": "code",
        "colab": {}
      },
      "source": [
        "X_train, X_test, Y_train, Y_test = train_test_split(X,Y, test_size=0.1, random_state=1)\n",
        "X_train,X_val, Y_train, Y_val = train_test_split(X_train,Y_train, test_size=0.1, random_state=1)"
      ],
      "execution_count": 0,
      "outputs": []
    },
    {
      "cell_type": "markdown",
      "metadata": {
        "id": "zYTr3K0MPzqb",
        "colab_type": "text"
      },
      "source": [
        "Printing the size of all the splitted datasets."
      ]
    },
    {
      "cell_type": "code",
      "metadata": {
        "id": "9fIr-VKy_PG1",
        "colab_type": "code",
        "outputId": "296cbb1a-c9bf-4c3a-e5ca-4057a41f94ad",
        "colab": {
          "base_uri": "https://localhost:8080/",
          "height": 119
        }
      },
      "source": [
        "print(\"Train Features Size:\", X_train.shape)\n",
        "print(\"Validation Features Size:\", X_val.shape)\n",
        "print(\"Test Features Size:\", X_test.shape)\n",
        "print(\"Train Labels Size:\", Y_train.shape)\n",
        "print(\"Validations Labels Size:\", Y_val.shape)\n",
        "print(\"Test Labels Size:\", Y_test.shape)"
      ],
      "execution_count": 10,
      "outputs": [
        {
          "output_type": "stream",
          "text": [
            "Train Features Size: (244, 13)\n",
            "Validation Features Size: (28, 13)\n",
            "Test Features Size: (31, 13)\n",
            "Train Labels Size: (244,)\n",
            "Validations Labels Size: (28,)\n",
            "Test Labels Size: (31,)\n"
          ],
          "name": "stdout"
        }
      ]
    },
    {
      "cell_type": "markdown",
      "metadata": {
        "id": "ui9ONYgmP7jZ",
        "colab_type": "text"
      },
      "source": [
        "# Defining a neural network model\n",
        "Created a neural network model with 13 input variables in the input layer, 4 hidden layers and 1 output layers with 2 target or output variables that classify disease vs. non-disease.\n",
        "The first hidden input layer consists of 64 instance, second layer consist of 16 instance, third layer consist of 8 and fourth consist of 4 instances. I have used reLu as an activation funtion in the hidden layers and softmax in the final output layer.\n",
        "To compute the loss sparse_categorical_crossentropy was used and to optimize the training parametes widely used adam optimier was used. Accuracy was used as a metrics to evaluate the neural network model."
      ]
    },
    {
      "cell_type": "code",
      "metadata": {
        "id": "m8eeR1MQ_ALO",
        "colab_type": "code",
        "colab": {}
      },
      "source": [
        "def NN_model(learning_rate):\n",
        "    model = Sequential()\n",
        "    model.add(Dense(64, input_dim=13, kernel_initializer='normal', activation='relu'))\n",
        "    model.add(Dense(16, input_dim=13, kernel_initializer='normal', activation='relu'))\n",
        "    model.add(Dense(8, kernel_initializer='normal', activation='relu'))\n",
        "    model.add(Dense(4, kernel_initializer='normal', activation='relu'))\n",
        "    model.add(Dense(2, activation='softmax'))\n",
        "    Adam(lr=learning_rate)\n",
        "    model.compile(loss='sparse_categorical_crossentropy', optimizer='Adam', metrics=['accuracy'])\n",
        "    return model"
      ],
      "execution_count": 0,
      "outputs": []
    },
    {
      "cell_type": "markdown",
      "metadata": {
        "id": "8ilyVMncRisP",
        "colab_type": "text"
      },
      "source": [
        "Displaying the defined neural network."
      ]
    },
    {
      "cell_type": "code",
      "metadata": {
        "id": "r9C4CEHhAyAl",
        "colab_type": "code",
        "outputId": "5c038181-12b5-4c05-856a-e36a647e32b9",
        "colab": {
          "base_uri": "https://localhost:8080/",
          "height": 462
        }
      },
      "source": [
        "learning_rate = 0.00001\n",
        "model = NN_model(learning_rate)\n",
        "print(model.summary())"
      ],
      "execution_count": 12,
      "outputs": [
        {
          "output_type": "stream",
          "text": [
            "WARNING:tensorflow:From /usr/local/lib/python3.6/dist-packages/tensorflow_core/python/keras/initializers.py:143: calling RandomNormal.__init__ (from tensorflow.python.ops.init_ops) with dtype is deprecated and will be removed in a future version.\n",
            "Instructions for updating:\n",
            "Call initializer instance with the dtype argument instead of passing it to the constructor\n",
            "WARNING:tensorflow:From /usr/local/lib/python3.6/dist-packages/tensorflow_core/python/ops/resource_variable_ops.py:1630: calling BaseResourceVariable.__init__ (from tensorflow.python.ops.resource_variable_ops) with constraint is deprecated and will be removed in a future version.\n",
            "Instructions for updating:\n",
            "If using Keras pass *_constraint arguments to layers.\n",
            "Model: \"sequential\"\n",
            "_________________________________________________________________\n",
            "Layer (type)                 Output Shape              Param #   \n",
            "=================================================================\n",
            "dense (Dense)                (None, 64)                896       \n",
            "_________________________________________________________________\n",
            "dense_1 (Dense)              (None, 16)                1040      \n",
            "_________________________________________________________________\n",
            "dense_2 (Dense)              (None, 8)                 136       \n",
            "_________________________________________________________________\n",
            "dense_3 (Dense)              (None, 4)                 36        \n",
            "_________________________________________________________________\n",
            "dense_4 (Dense)              (None, 2)                 10        \n",
            "=================================================================\n",
            "Total params: 2,118\n",
            "Trainable params: 2,118\n",
            "Non-trainable params: 0\n",
            "_________________________________________________________________\n",
            "None\n"
          ],
          "name": "stdout"
        }
      ]
    },
    {
      "cell_type": "markdown",
      "metadata": {
        "id": "8m4R8spPRrvo",
        "colab_type": "text"
      },
      "source": [
        "# Training the neural network model"
      ]
    },
    {
      "cell_type": "code",
      "metadata": {
        "id": "qmvILbXtAztg",
        "colab_type": "code",
        "outputId": "d1e3c048-6b33-4312-e112-822ecac9736d",
        "colab": {
          "base_uri": "https://localhost:8080/",
          "height": 1000
        }
      },
      "source": [
        "history = model.fit(X_train, Y_train, validation_data=(X_val, Y_val), epochs=100, batch_size=16, verbose=2)"
      ],
      "execution_count": 13,
      "outputs": [
        {
          "output_type": "stream",
          "text": [
            "Train on 244 samples, validate on 28 samples\n",
            "Epoch 1/100\n",
            "244/244 - 0s - loss: 0.6875 - acc: 0.5574 - val_loss: 0.6946 - val_acc: 0.5000\n",
            "Epoch 2/100\n",
            "244/244 - 0s - loss: 0.6797 - acc: 0.5574 - val_loss: 0.6973 - val_acc: 0.5000\n",
            "Epoch 3/100\n",
            "244/244 - 0s - loss: 0.6723 - acc: 0.5533 - val_loss: 0.6989 - val_acc: 0.5000\n",
            "Epoch 4/100\n",
            "244/244 - 0s - loss: 0.6602 - acc: 0.5615 - val_loss: 0.7020 - val_acc: 0.5000\n",
            "Epoch 5/100\n",
            "244/244 - 0s - loss: 0.6499 - acc: 0.6516 - val_loss: 0.7248 - val_acc: 0.5714\n",
            "Epoch 6/100\n",
            "244/244 - 0s - loss: 0.6390 - acc: 0.6393 - val_loss: 0.7217 - val_acc: 0.5000\n",
            "Epoch 7/100\n",
            "244/244 - 0s - loss: 0.6258 - acc: 0.6598 - val_loss: 0.7489 - val_acc: 0.5714\n",
            "Epoch 8/100\n",
            "244/244 - 0s - loss: 0.6325 - acc: 0.6475 - val_loss: 0.7121 - val_acc: 0.5000\n",
            "Epoch 9/100\n",
            "244/244 - 0s - loss: 0.5979 - acc: 0.7172 - val_loss: 0.7541 - val_acc: 0.5357\n",
            "Epoch 10/100\n",
            "244/244 - 0s - loss: 0.5935 - acc: 0.7172 - val_loss: 0.7207 - val_acc: 0.5357\n",
            "Epoch 11/100\n",
            "244/244 - 0s - loss: 0.5774 - acc: 0.7049 - val_loss: 0.7200 - val_acc: 0.5000\n",
            "Epoch 12/100\n",
            "244/244 - 0s - loss: 0.5766 - acc: 0.7008 - val_loss: 0.7821 - val_acc: 0.6429\n",
            "Epoch 13/100\n",
            "244/244 - 0s - loss: 0.5820 - acc: 0.7090 - val_loss: 0.7538 - val_acc: 0.5714\n",
            "Epoch 14/100\n",
            "244/244 - 0s - loss: 0.5706 - acc: 0.6926 - val_loss: 0.7471 - val_acc: 0.5714\n",
            "Epoch 15/100\n",
            "244/244 - 0s - loss: 0.5481 - acc: 0.7213 - val_loss: 0.7487 - val_acc: 0.5357\n",
            "Epoch 16/100\n",
            "244/244 - 0s - loss: 0.5336 - acc: 0.7336 - val_loss: 0.7247 - val_acc: 0.5357\n",
            "Epoch 17/100\n",
            "244/244 - 0s - loss: 0.5411 - acc: 0.7254 - val_loss: 0.7301 - val_acc: 0.5000\n",
            "Epoch 18/100\n",
            "244/244 - 0s - loss: 0.5307 - acc: 0.7295 - val_loss: 0.6956 - val_acc: 0.5357\n",
            "Epoch 19/100\n",
            "244/244 - 0s - loss: 0.5350 - acc: 0.7336 - val_loss: 0.7023 - val_acc: 0.5357\n",
            "Epoch 20/100\n",
            "244/244 - 0s - loss: 0.5312 - acc: 0.7418 - val_loss: 0.7418 - val_acc: 0.7143\n",
            "Epoch 21/100\n",
            "244/244 - 0s - loss: 0.5374 - acc: 0.7090 - val_loss: 0.6894 - val_acc: 0.7500\n",
            "Epoch 22/100\n",
            "244/244 - 0s - loss: 0.4901 - acc: 0.7377 - val_loss: 0.7051 - val_acc: 0.5357\n",
            "Epoch 23/100\n",
            "244/244 - 0s - loss: 0.4916 - acc: 0.7623 - val_loss: 0.6833 - val_acc: 0.5000\n",
            "Epoch 24/100\n",
            "244/244 - 0s - loss: 0.4955 - acc: 0.7541 - val_loss: 0.6743 - val_acc: 0.5000\n",
            "Epoch 25/100\n",
            "244/244 - 0s - loss: 0.4789 - acc: 0.7746 - val_loss: 0.6476 - val_acc: 0.5000\n",
            "Epoch 26/100\n",
            "244/244 - 0s - loss: 0.5131 - acc: 0.7336 - val_loss: 0.6237 - val_acc: 0.5357\n",
            "Epoch 27/100\n",
            "244/244 - 0s - loss: 0.4656 - acc: 0.7828 - val_loss: 0.6193 - val_acc: 0.6429\n",
            "Epoch 28/100\n",
            "244/244 - 0s - loss: 0.4821 - acc: 0.7705 - val_loss: 0.6194 - val_acc: 0.7143\n",
            "Epoch 29/100\n",
            "244/244 - 0s - loss: 0.4831 - acc: 0.7705 - val_loss: 0.6183 - val_acc: 0.5714\n",
            "Epoch 30/100\n",
            "244/244 - 0s - loss: 0.4516 - acc: 0.7787 - val_loss: 0.5995 - val_acc: 0.6786\n",
            "Epoch 31/100\n",
            "244/244 - 0s - loss: 0.4475 - acc: 0.7910 - val_loss: 0.5934 - val_acc: 0.7143\n",
            "Epoch 32/100\n",
            "244/244 - 0s - loss: 0.4523 - acc: 0.7828 - val_loss: 0.6044 - val_acc: 0.7500\n",
            "Epoch 33/100\n",
            "244/244 - 0s - loss: 0.4688 - acc: 0.7623 - val_loss: 0.5809 - val_acc: 0.7143\n",
            "Epoch 34/100\n",
            "244/244 - 0s - loss: 0.4785 - acc: 0.7705 - val_loss: 0.6065 - val_acc: 0.6429\n",
            "Epoch 35/100\n",
            "244/244 - 0s - loss: 0.4644 - acc: 0.7705 - val_loss: 0.5766 - val_acc: 0.6786\n",
            "Epoch 36/100\n",
            "244/244 - 0s - loss: 0.4771 - acc: 0.7664 - val_loss: 0.5946 - val_acc: 0.6429\n",
            "Epoch 37/100\n",
            "244/244 - 0s - loss: 0.4296 - acc: 0.7951 - val_loss: 0.5786 - val_acc: 0.7143\n",
            "Epoch 38/100\n",
            "244/244 - 0s - loss: 0.4251 - acc: 0.7869 - val_loss: 0.5532 - val_acc: 0.7143\n",
            "Epoch 39/100\n",
            "244/244 - 0s - loss: 0.4158 - acc: 0.7951 - val_loss: 0.5895 - val_acc: 0.7143\n",
            "Epoch 40/100\n",
            "244/244 - 0s - loss: 0.4242 - acc: 0.8074 - val_loss: 0.5565 - val_acc: 0.7143\n",
            "Epoch 41/100\n",
            "244/244 - 0s - loss: 0.4418 - acc: 0.8115 - val_loss: 0.5721 - val_acc: 0.7500\n",
            "Epoch 42/100\n",
            "244/244 - 0s - loss: 0.4498 - acc: 0.7787 - val_loss: 0.5571 - val_acc: 0.7143\n",
            "Epoch 43/100\n",
            "244/244 - 0s - loss: 0.4143 - acc: 0.7787 - val_loss: 0.5743 - val_acc: 0.7143\n",
            "Epoch 44/100\n",
            "244/244 - 0s - loss: 0.4012 - acc: 0.8279 - val_loss: 0.5576 - val_acc: 0.7500\n",
            "Epoch 45/100\n",
            "244/244 - 0s - loss: 0.4214 - acc: 0.8033 - val_loss: 0.5456 - val_acc: 0.7500\n",
            "Epoch 46/100\n",
            "244/244 - 0s - loss: 0.4201 - acc: 0.7992 - val_loss: 0.5588 - val_acc: 0.7500\n",
            "Epoch 47/100\n",
            "244/244 - 0s - loss: 0.4309 - acc: 0.7869 - val_loss: 0.5504 - val_acc: 0.7500\n",
            "Epoch 48/100\n",
            "244/244 - 0s - loss: 0.4473 - acc: 0.8033 - val_loss: 0.5435 - val_acc: 0.7500\n",
            "Epoch 49/100\n",
            "244/244 - 0s - loss: 0.4011 - acc: 0.8115 - val_loss: 0.5421 - val_acc: 0.7143\n",
            "Epoch 50/100\n",
            "244/244 - 0s - loss: 0.4028 - acc: 0.8238 - val_loss: 0.5410 - val_acc: 0.7143\n",
            "Epoch 51/100\n",
            "244/244 - 0s - loss: 0.4155 - acc: 0.8156 - val_loss: 0.5402 - val_acc: 0.7500\n",
            "Epoch 52/100\n",
            "244/244 - 0s - loss: 0.3965 - acc: 0.8156 - val_loss: 0.5503 - val_acc: 0.7143\n",
            "Epoch 53/100\n",
            "244/244 - 0s - loss: 0.4100 - acc: 0.8074 - val_loss: 0.5719 - val_acc: 0.7143\n",
            "Epoch 54/100\n",
            "244/244 - 0s - loss: 0.3993 - acc: 0.8279 - val_loss: 0.5356 - val_acc: 0.7143\n",
            "Epoch 55/100\n",
            "244/244 - 0s - loss: 0.3779 - acc: 0.8197 - val_loss: 0.5482 - val_acc: 0.7143\n",
            "Epoch 56/100\n",
            "244/244 - 0s - loss: 0.4247 - acc: 0.8197 - val_loss: 0.6616 - val_acc: 0.7500\n",
            "Epoch 57/100\n",
            "244/244 - 0s - loss: 0.4259 - acc: 0.7869 - val_loss: 0.6327 - val_acc: 0.7500\n",
            "Epoch 58/100\n",
            "244/244 - 0s - loss: 0.4892 - acc: 0.7746 - val_loss: 0.5638 - val_acc: 0.7143\n",
            "Epoch 59/100\n",
            "244/244 - 0s - loss: 0.4141 - acc: 0.8279 - val_loss: 0.5353 - val_acc: 0.7143\n",
            "Epoch 60/100\n",
            "244/244 - 0s - loss: 0.3827 - acc: 0.8443 - val_loss: 0.5272 - val_acc: 0.7500\n",
            "Epoch 61/100\n",
            "244/244 - 0s - loss: 0.3767 - acc: 0.8361 - val_loss: 0.5463 - val_acc: 0.7143\n",
            "Epoch 62/100\n",
            "244/244 - 0s - loss: 0.3873 - acc: 0.8238 - val_loss: 0.5302 - val_acc: 0.7500\n",
            "Epoch 63/100\n",
            "244/244 - 0s - loss: 0.3656 - acc: 0.8566 - val_loss: 0.5533 - val_acc: 0.7500\n",
            "Epoch 64/100\n",
            "244/244 - 0s - loss: 0.3912 - acc: 0.8279 - val_loss: 0.5631 - val_acc: 0.7143\n",
            "Epoch 65/100\n",
            "244/244 - 0s - loss: 0.4111 - acc: 0.7869 - val_loss: 0.5437 - val_acc: 0.7500\n",
            "Epoch 66/100\n",
            "244/244 - 0s - loss: 0.3709 - acc: 0.8238 - val_loss: 0.5821 - val_acc: 0.7500\n",
            "Epoch 67/100\n",
            "244/244 - 0s - loss: 0.3920 - acc: 0.8320 - val_loss: 0.5356 - val_acc: 0.7500\n",
            "Epoch 68/100\n",
            "244/244 - 0s - loss: 0.3715 - acc: 0.8402 - val_loss: 0.5685 - val_acc: 0.7143\n",
            "Epoch 69/100\n",
            "244/244 - 0s - loss: 0.4009 - acc: 0.8115 - val_loss: 0.5497 - val_acc: 0.7143\n",
            "Epoch 70/100\n",
            "244/244 - 0s - loss: 0.3747 - acc: 0.8361 - val_loss: 0.5350 - val_acc: 0.7500\n",
            "Epoch 71/100\n",
            "244/244 - 0s - loss: 0.3774 - acc: 0.8320 - val_loss: 0.5443 - val_acc: 0.7500\n",
            "Epoch 72/100\n",
            "244/244 - 0s - loss: 0.3909 - acc: 0.8320 - val_loss: 0.5606 - val_acc: 0.7143\n",
            "Epoch 73/100\n",
            "244/244 - 0s - loss: 0.3676 - acc: 0.8689 - val_loss: 0.5255 - val_acc: 0.7500\n",
            "Epoch 74/100\n",
            "244/244 - 0s - loss: 0.3664 - acc: 0.8689 - val_loss: 0.5271 - val_acc: 0.7500\n",
            "Epoch 75/100\n",
            "244/244 - 0s - loss: 0.3749 - acc: 0.8361 - val_loss: 0.5561 - val_acc: 0.7143\n",
            "Epoch 76/100\n",
            "244/244 - 0s - loss: 0.3579 - acc: 0.8607 - val_loss: 0.5446 - val_acc: 0.7500\n",
            "Epoch 77/100\n",
            "244/244 - 0s - loss: 0.3628 - acc: 0.8443 - val_loss: 0.5745 - val_acc: 0.7500\n",
            "Epoch 78/100\n",
            "244/244 - 0s - loss: 0.3618 - acc: 0.8566 - val_loss: 0.6108 - val_acc: 0.7857\n",
            "Epoch 79/100\n",
            "244/244 - 0s - loss: 0.4098 - acc: 0.8074 - val_loss: 0.5863 - val_acc: 0.7500\n",
            "Epoch 80/100\n",
            "244/244 - 0s - loss: 0.4130 - acc: 0.7869 - val_loss: 0.5541 - val_acc: 0.7500\n",
            "Epoch 81/100\n",
            "244/244 - 0s - loss: 0.3938 - acc: 0.8320 - val_loss: 0.5695 - val_acc: 0.7143\n",
            "Epoch 82/100\n",
            "244/244 - 0s - loss: 0.3847 - acc: 0.8320 - val_loss: 0.5911 - val_acc: 0.7143\n",
            "Epoch 83/100\n",
            "244/244 - 0s - loss: 0.3971 - acc: 0.8238 - val_loss: 0.5846 - val_acc: 0.7143\n",
            "Epoch 84/100\n",
            "244/244 - 0s - loss: 0.3916 - acc: 0.8402 - val_loss: 0.5616 - val_acc: 0.7500\n",
            "Epoch 85/100\n",
            "244/244 - 0s - loss: 0.3975 - acc: 0.7910 - val_loss: 0.5581 - val_acc: 0.7500\n",
            "Epoch 86/100\n",
            "244/244 - 0s - loss: 0.3612 - acc: 0.8402 - val_loss: 0.5661 - val_acc: 0.7500\n",
            "Epoch 87/100\n",
            "244/244 - 0s - loss: 0.3667 - acc: 0.8607 - val_loss: 0.5800 - val_acc: 0.7143\n",
            "Epoch 88/100\n",
            "244/244 - 0s - loss: 0.4070 - acc: 0.7951 - val_loss: 0.5886 - val_acc: 0.7143\n",
            "Epoch 89/100\n",
            "244/244 - 0s - loss: 0.3880 - acc: 0.8361 - val_loss: 0.5756 - val_acc: 0.7143\n",
            "Epoch 90/100\n",
            "244/244 - 0s - loss: 0.3532 - acc: 0.8484 - val_loss: 0.5720 - val_acc: 0.7143\n",
            "Epoch 91/100\n",
            "244/244 - 0s - loss: 0.3902 - acc: 0.8197 - val_loss: 0.5576 - val_acc: 0.7500\n",
            "Epoch 92/100\n",
            "244/244 - 0s - loss: 0.3660 - acc: 0.8402 - val_loss: 0.6261 - val_acc: 0.7857\n",
            "Epoch 93/100\n",
            "244/244 - 0s - loss: 0.3842 - acc: 0.8279 - val_loss: 0.5624 - val_acc: 0.7500\n",
            "Epoch 94/100\n",
            "244/244 - 0s - loss: 0.3762 - acc: 0.8525 - val_loss: 0.5641 - val_acc: 0.7500\n",
            "Epoch 95/100\n",
            "244/244 - 0s - loss: 0.3687 - acc: 0.8279 - val_loss: 0.5735 - val_acc: 0.7500\n",
            "Epoch 96/100\n",
            "244/244 - 0s - loss: 0.3658 - acc: 0.8443 - val_loss: 0.5948 - val_acc: 0.7143\n",
            "Epoch 97/100\n",
            "244/244 - 0s - loss: 0.3759 - acc: 0.8402 - val_loss: 0.5845 - val_acc: 0.7143\n",
            "Epoch 98/100\n",
            "244/244 - 0s - loss: 0.3687 - acc: 0.8525 - val_loss: 0.5768 - val_acc: 0.7500\n",
            "Epoch 99/100\n",
            "244/244 - 0s - loss: 0.3607 - acc: 0.8402 - val_loss: 0.5805 - val_acc: 0.7500\n",
            "Epoch 100/100\n",
            "244/244 - 0s - loss: 0.3534 - acc: 0.8689 - val_loss: 0.5917 - val_acc: 0.7500\n"
          ],
          "name": "stdout"
        }
      ]
    },
    {
      "cell_type": "markdown",
      "metadata": {
        "id": "O2rxrfAwRxYG",
        "colab_type": "text"
      },
      "source": [
        "## Model accuracy Plot"
      ]
    },
    {
      "cell_type": "code",
      "metadata": {
        "id": "L9y-IQ_-CGVZ",
        "colab_type": "code",
        "outputId": "60101de8-c337-4929-c9bf-ab36101db0ab",
        "colab": {
          "base_uri": "https://localhost:8080/",
          "height": 295
        }
      },
      "source": [
        "plt.plot(history.history['acc'])\n",
        "plt.plot(history.history['val_acc'])\n",
        "plt.title('Model Accuracy')\n",
        "plt.ylabel('Accuracy')\n",
        "plt.xlabel('Epochs')\n",
        "plt.legend(['Train', 'Validation'])\n",
        "plt.show()"
      ],
      "execution_count": 14,
      "outputs": [
        {
          "output_type": "display_data",
          "data": {
            "image/png": "[encoded data removed]",
            "text/plain": [
              "<Figure size 432x288 with 1 Axes>"
            ]
          },
          "metadata": {
            "tags": []
          }
        }
      ]
    },
    {
      "cell_type": "markdown",
      "metadata": {
        "id": "qWJPn_2CR48X",
        "colab_type": "text"
      },
      "source": [
        "## Model Loss plot"
      ]
    },
    {
      "cell_type": "code",
      "metadata": {
        "id": "7q410ElyCKZA",
        "colab_type": "code",
        "outputId": "be0353b4-cbd7-49a2-863c-c0577f30467f",
        "colab": {
          "base_uri": "https://localhost:8080/",
          "height": 295
        }
      },
      "source": [
        "plt.plot(history.history['loss'])\n",
        "plt.plot(history.history['val_loss'])\n",
        "plt.title('Model Loss')\n",
        "plt.ylabel('Loss')\n",
        "plt.xlabel('Epochs')\n",
        "plt.legend(['Train', 'Validation'])\n",
        "plt.show()"
      ],
      "execution_count": 15,
      "outputs": [
        {
          "output_type": "display_data",
          "data": {
            "image/png": "[encoded data removed]",
            "text/plain": [
              "<Figure size 432x288 with 1 Axes>"
            ]
          },
          "metadata": {
            "tags": []
          }
        }
      ]
    },
    {
      "cell_type": "markdown",
      "metadata": {
        "id": "CGSYdT2QSNqk",
        "colab_type": "text"
      },
      "source": [
        "# Prediction Test and Classification Report\n",
        "Finally, predicting the class from the input test dataset and generating the classification report using the imported package sklearn.metrics.\n",
        "\n",
        "The trained model using neural network has a model accuracy of around 90% and has the similar f1 score, where f1 is a measure of test accuracy in binary classification which considers both precision and recall."
      ]
    },
    {
      "cell_type": "code",
      "metadata": {
        "id": "3ULHiRL1Lj8N",
        "colab_type": "code",
        "outputId": "25d6138c-2315-4bab-80e9-63461bece1ef",
        "colab": {
          "base_uri": "https://localhost:8080/",
          "height": 187
        }
      },
      "source": [
        "predictions = np.argmax(model.predict(X_test), axis=1)\n",
        "model_accuracy = accuracy_score(Y_test, predictions)*100\n",
        "print(\"Model Accracy:\", model_accuracy,\"%\")\n",
        "print(classification_report(Y_test, predictions))"
      ],
      "execution_count": 16,
      "outputs": [
        {
          "output_type": "stream",
          "text": [
            "Model Accracy: 90.32258064516128 %\n",
            "              precision    recall  f1-score   support\n",
            "\n",
            "           0       1.00      0.81      0.90        16\n",
            "           1       0.83      1.00      0.91        15\n",
            "\n",
            "    accuracy                           0.90        31\n",
            "   macro avg       0.92      0.91      0.90        31\n",
            "weighted avg       0.92      0.90      0.90        31\n",
            "\n"
          ],
          "name": "stdout"
        }
      ]
    }
  ]
}